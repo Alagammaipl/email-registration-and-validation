{
  "nbformat": 4,
  "nbformat_minor": 0,
  "metadata": {
    "colab": {
      "provenance": [],
      "authorship_tag": "ABX9TyOypb3uViYqDXdeBpXYnIK4",
      "include_colab_link": true
    },
    "kernelspec": {
      "name": "python3",
      "display_name": "Python 3"
    },
    "language_info": {
      "name": "python"
    }
  },
  "cells": [
    {
      "cell_type": "markdown",
      "metadata": {
        "id": "view-in-github",
        "colab_type": "text"
      },
      "source": [
        "<a href=\"https://colab.research.google.com/github/Alagammaipl/email-registration-and-validation/blob/main/email_validation_task_1.ipynb\" target=\"_parent\"><img src=\"https://colab.research.google.com/assets/colab-badge.svg\" alt=\"Open In Colab\"/></a>"
      ]
    },
    {
      "cell_type": "markdown",
      "source": [
        "***Mail validation function***"
      ],
      "metadata": {
        "id": "jIW8Pzsmf1kv"
      }
    },
    {
      "cell_type": "code",
      "source": [
        "def validmail(email):\n",
        "  u = email.split(\".com\")[0]\n",
        "  if email.endswith(\".com\") and email.count('@') == 1 and email.index('@') >= 3 and u.find(\".\") == -1 and u.index('@') >= -5:\n",
        "      return True\n",
        "  else:\n",
        "     return False"
      ],
      "metadata": {
        "id": "ePQEdq0n9LGv"
      },
      "execution_count": null,
      "outputs": []
    },
    {
      "cell_type": "markdown",
      "source": [
        "***Password validation function***"
      ],
      "metadata": {
        "id": "0b1Sc9dsf-Ji"
      }
    },
    {
      "cell_type": "code",
      "source": [
        "def validpass(password):\n",
        "  import re\n",
        "  lower=0\n",
        "  upper=0 \n",
        "  for i in password:\n",
        "    if(i.islower()):\n",
        "            lower+=1\n",
        "    elif(i.isupper()):\n",
        "            upper+=1\n",
        "    else:\n",
        "      pass\n",
        "  res = any(chr.isdigit() for chr in password)\n",
        "  if(bool(re.match('^[a-zA-Z0-9]*$',password))==False) and len(password) > 5 and len(password) <16 and lower >= 1 and upper >= 1 and res == True :\n",
        "    return True\n",
        "  else:\n",
        "    return False"
      ],
      "metadata": {
        "id": "JFZSZBfs-fXY"
      },
      "execution_count": null,
      "outputs": []
    },
    {
      "cell_type": "markdown",
      "source": [
        "**Writing in a file function**"
      ],
      "metadata": {
        "id": "J__paUccgGxA"
      }
    },
    {
      "cell_type": "code",
      "source": [
        "import csv\n",
        "def write_file(email, password, username , mode = 'a', encoding = 'UTF8', newline = ''):\n",
        "    with open('emailtask.csv', mode, encoding = encoding, newline = newline) as i:\n",
        "        write = csv.writer(i)\n",
        "        write.writerow([email, password, username])"
      ],
      "metadata": {
        "id": "Tn_pE4urClOB"
      },
      "execution_count": null,
      "outputs": []
    },
    {
      "cell_type": "markdown",
      "source": [
        "***Searching mail function***"
      ],
      "metadata": {
        "id": "X_2dMUjXgQFm"
      }
    },
    {
      "cell_type": "code",
      "source": [
        "def search_email(email, password, username , mode = 'r', encoding = 'UTF8', newline = ''):\n",
        "    with open('emailtask.csv', mode, encoding = encoding, newline = newline) as f:\n",
        "        reader = csv.reader(f)\n",
        "        for row in reader:\n",
        "            if email == row[0]:\n",
        "                return True\n",
        "        return False"
      ],
      "metadata": {
        "id": "2DWQGFD0EIb7"
      },
      "execution_count": null,
      "outputs": []
    },
    {
      "cell_type": "markdown",
      "source": [
        "***Searching password function***"
      ],
      "metadata": {
        "id": "kpfEvBmKgY7s"
      }
    },
    {
      "cell_type": "code",
      "source": [
        "def search_password(email, password, mode = 'r', encoding = 'UTF8', newline = ''):\n",
        "    with open('emailtask.csv', mode, encoding = encoding, newline = newline) as f:\n",
        "        reader = csv.reader(f)\n",
        "        for row in reader:\n",
        "            if email == row[0] and password == row[1]:\n",
        "              print('sucsessfully loged in' + row[2])\n",
        "              return True\n",
        "        return False"
      ],
      "metadata": {
        "id": "QtOJqyrQFdwZ"
      },
      "execution_count": null,
      "outputs": []
    },
    {
      "cell_type": "markdown",
      "source": [
        "***Searching username and retriving password function***"
      ],
      "metadata": {
        "id": "0z3noWv8gdbh"
      }
    },
    {
      "cell_type": "code",
      "source": [
        "def search_username(email, password, username, mode = 'r', encoding = 'UTF8', newline = ''):\n",
        "    with open('emailtask.csv', mode, encoding = encoding, newline = newline) as f:\n",
        "        reader = csv.reader(f)\n",
        "        for row in reader:\n",
        "            if email == row[0] and username == row[2]:\n",
        "              print('your password is' + row[1])\n",
        "              return True\n",
        "        return False"
      ],
      "metadata": {
        "id": "wgBPtOx-Ipd3"
      },
      "execution_count": null,
      "outputs": []
    },
    {
      "cell_type": "markdown",
      "source": [
        "Deleting row in which password to be updated fuction\n",
        "  \n",
        "  to rewrite the row again with new password"
      ],
      "metadata": {
        "id": "mxfm7mHOgsiq"
      }
    },
    {
      "cell_type": "code",
      "source": [
        "import csv\n",
        "def delete_mail(email, password, username, mode = 'r+', encoding = 'UTF8', newline = ''):\n",
        "    updatedlist=[]\n",
        "    with open(\"emailtask.csv\", mode, encoding = encoding, newline = newline) as f:\n",
        "      reader=csv.reader(f)\n",
        "      for row in reader:\n",
        "        if row[0]!=email:\n",
        "          updatedlist.append(row)\n",
        "          return True\n",
        "      updatefile(updatedlist)\n",
        "\n",
        "def updatefile(updatedlist):\n",
        "    with open(\"emailtask.csv\",\"w\", encoding = 'UTF8', newline=\"\") as f:\n",
        "        Writer=csv.writer(f)\n",
        "        Writer.writerows(updatedlist)\n",
        "        print(\"File has been updated\")"
      ],
      "metadata": {
        "id": "QFEtEd3oZIQi"
      },
      "execution_count": null,
      "outputs": []
    },
    {
      "cell_type": "markdown",
      "source": [
        "***Registration for new users***\n",
        "\n"
      ],
      "metadata": {
        "id": "XqTp61tihH82"
      }
    },
    {
      "cell_type": "code",
      "source": [
        "input(\"enter for registeration\")\n",
        "username = input(\"enter a username\")\n",
        "email = input(\"enter email id\")\n",
        "if validmail(email):\n",
        "  password = input(\"enter a password\")\n",
        "  if validpass(password):\n",
        "      write_file(email, password, username)\n",
        "      print(\"sucessfully registered\")\n",
        "  else:\n",
        "      print('invalid password failed registeration', username)\n",
        "else:\n",
        "  print('invalid mail id, failed to register, try again', username)\n"
      ],
      "metadata": {
        "colab": {
          "base_uri": "https://localhost:8080/"
        },
        "id": "JXASnEp2_TlP",
        "outputId": "1422b365-1391-40ca-8628-d08a22aded57"
      },
      "execution_count": null,
      "outputs": [
        {
          "output_type": "stream",
          "name": "stdout",
          "text": [
            "enter for registeration\n",
            "enter a usernameSandhiya\n",
            "enter email idSandhiya@yahoo.com\n",
            "enter a passwordSandhiya@1234\n",
            "sucessfully registered\n"
          ]
        }
      ]
    },
    {
      "cell_type": "markdown",
      "source": [
        "***Login for users***"
      ],
      "metadata": {
        "id": "JAw-kVlFhQNx"
      }
    },
    {
      "cell_type": "code",
      "source": [
        "input(\"enter for login\")\n",
        "email = input(\"enter emailid\")\n",
        "if search_email(email, password, username):\n",
        "  password = input(\"enter password\")\n",
        "  if search_password(email, password):\n",
        "    print(\"welcome\")\n",
        "  else:\n",
        "    print(\"password incorrect try again or go opt for forget password\")\n",
        "else:\n",
        "  print(\"doesn't exists, go and register\")  "
      ],
      "metadata": {
        "colab": {
          "base_uri": "https://localhost:8080/"
        },
        "id": "PPMYWT08C40w",
        "outputId": "7c13afb6-4073-4085-c50d-3affbddcce2c"
      },
      "execution_count": null,
      "outputs": [
        {
          "output_type": "stream",
          "name": "stdout",
          "text": [
            "enter for login\n",
            "enter emailidSandhiya@yahoo.com\n",
            "enter passwordSandhiya@1234\n",
            "sucsessfully loged inSandhiya\n",
            "welcome\n"
          ]
        }
      ]
    },
    {
      "cell_type": "markdown",
      "source": [
        "***Retriving password given mailid and username***"
      ],
      "metadata": {
        "id": "BXQ0XLpAhfAU"
      }
    },
    {
      "cell_type": "code",
      "source": [
        "input(\"enter for forget password\")\n",
        "email = input(\"enter emailid\")\n",
        "if search_email(email, password, username):\n",
        "  username = input(\"enter username\")\n",
        "  if search_username(email, password, username):\n",
        "    print(\"welcome\")\n",
        "  else:\n",
        "    print(\"username incorrect try again\")\n",
        "else:\n",
        "  print(\"doesn't exists, go and register\")  "
      ],
      "metadata": {
        "colab": {
          "base_uri": "https://localhost:8080/"
        },
        "id": "ma_X6GAXIVRK",
        "outputId": "fcf3fab8-22db-41f7-fc37-458b79776d4f"
      },
      "execution_count": null,
      "outputs": [
        {
          "output_type": "stream",
          "name": "stdout",
          "text": [
            "enter for forget password\n",
            "enter emailidSandhiya@yahoo.com\n",
            "enter usernameSandhiya\n",
            "your password isSandhiya@1234\n",
            "welcome\n"
          ]
        }
      ]
    },
    {
      "cell_type": "markdown",
      "source": [
        "***Updating new password***"
      ],
      "metadata": {
        "id": "DDlGDjalhYuu"
      }
    },
    {
      "cell_type": "code",
      "source": [
        "input(\"enter for update password\")\n",
        "email = input(\"enter emailid\")\n",
        "if search_email(email, password, username):\n",
        "  username = input(\"enter username\")\n",
        "  if search_username(email, password, username):\n",
        "    newpassword = input(\"new password\")\n",
        "    if validpass(password):\n",
        "      delete_mail(email, password, username)\n",
        "      write_file(email, newpassword, username)\n",
        "      print(\"password updated\")\n",
        "    else:\n",
        "       print(\"new password you entered is not valid, try again\")\n",
        "  else:\n",
        "    print(\"username incorrect try again\")\n",
        "else:\n",
        "  print(\"doesn't exists, go and register\")  "
      ],
      "metadata": {
        "colab": {
          "base_uri": "https://localhost:8080/"
        },
        "id": "iwQnLT07JPUR",
        "outputId": "f65640b6-4bdc-45b2-d7a7-f1fbde5e8b5c"
      },
      "execution_count": null,
      "outputs": [
        {
          "output_type": "stream",
          "name": "stdout",
          "text": [
            "enter for update password\n",
            "enter emailidSandhiya@yahoo.com\n",
            "enter usernameSandhiya\n",
            "your password isSandhiya@1234\n",
            "new passwordSANdhiya@1342\n",
            "password updated\n"
          ]
        }
      ]
    }
  ]
}